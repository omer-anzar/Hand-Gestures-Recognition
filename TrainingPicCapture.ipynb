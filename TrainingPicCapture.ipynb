{
 "cells": [
  {
   "cell_type": "code",
   "execution_count": 1,
   "id": "b679092f",
   "metadata": {},
   "outputs": [],
   "source": [
    "import cv2, uuid, os, time"
   ]
  },
  {
   "cell_type": "code",
   "execution_count": 2,
   "id": "602e5ffc",
   "metadata": {},
   "outputs": [
    {
     "name": "stdout",
     "output_type": "stream",
     "text": [
      "Collecting images for GoodJob\n",
      "Collecting images for ThankYou\n"
     ]
    }
   ],
   "source": [
    "IMGS_PATH = 'Tensorflow/workspace/images/capturedImages'\n",
    "labels = ['GoodJob', 'ThankYou']\n",
    "number_of_imgs = 16\n",
    "for label in labels:\n",
    "    !mkdir {'Tensorflow\\workspace\\images\\capturedImages\\\\'+label}\n",
    "    cap = cv2.VideoCapture(0)\n",
    "    print('Collecting images for {}'.format(label))\n",
    "    time.sleep(5)\n",
    "    for imgnum in range(number_of_imgs):\n",
    "        ret, frame = cap.read()\n",
    "        imgname = os.path.join(IMGS_PATH, label, label+'.'+'{}.jpg'.format(str(uuid.uuid1())))\n",
    "        cv2.imwrite(imgname, frame)\n",
    "        cv2.imshow('frame', frame)\n",
    "        time.sleep(5)\n",
    "        if cv2.waitKey(1) & 0xFF == ord('q'):\n",
    "            break\n",
    "    cap.release()"
   ]
  },
  {
   "cell_type": "code",
   "execution_count": null,
   "id": "3520e509",
   "metadata": {},
   "outputs": [],
   "source": []
  }
 ],
 "metadata": {
  "kernelspec": {
   "display_name": "Python 3 (ipykernel)",
   "language": "python",
   "name": "python3"
  },
  "language_info": {
   "codemirror_mode": {
    "name": "ipython",
    "version": 3
   },
   "file_extension": ".py",
   "mimetype": "text/x-python",
   "name": "python",
   "nbconvert_exporter": "python",
   "pygments_lexer": "ipython3",
   "version": "3.9.12"
  }
 },
 "nbformat": 4,
 "nbformat_minor": 5
}
